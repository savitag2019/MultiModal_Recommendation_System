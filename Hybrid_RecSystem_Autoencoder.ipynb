{
 "cells": [
  {
   "cell_type": "markdown",
   "id": "0a79d7e0",
   "metadata": {},
   "source": [
    "# 🎯 Multi-Modal Recommendation System using PyTorch (Hybrid Model)\n",
    "**Problem 2: Multi-Modal Recommendation System**\n",
    "\n",
    "- Uses MovieLens 100K dataset from URL\n",
    "- Hybrid approach: Autoencoder + Content (genre)\n",
    "- Handles cold-start problem\n",
    "- Evaluated using Precision@10 and NDCG@10"
   ]
  },
  {
   "cell_type": "markdown",
   "id": "ec22ec1d",
   "metadata": {},
   "source": [
    "## 📥 Step 1: Download and Extract Dataset"
   ]
  },
  {
   "cell_type": "code",
   "execution_count": 1,
   "id": "d09bbc95",
   "metadata": {},
   "outputs": [],
   "source": [
    "\n",
    "import os\n",
    "import urllib.request\n",
    "import zipfile\n",
    "import pandas as pd\n",
    "import numpy as np\n",
    "\n",
    "# === 1. Dataset Download ===\n",
    "if not os.path.exists('ml-100k'):\n",
    "    url = 'http://files.grouplens.org/datasets/movielens/ml-100k.zip'\n",
    "    print(\"Downloading MovieLens 100K…\")\n",
    "    urllib.request.urlretrieve(url, 'ml-100k.zip')\n",
    "    print(\"Extracting…\")\n",
    "    with zipfile.ZipFile('ml-100k.zip', 'r') as z:\n",
    "        z.extractall()\n",
    "    print(\"Done!\")\n"
   ]
  },
  {
   "cell_type": "markdown",
   "id": "610cfa35",
   "metadata": {},
   "source": [
    "## 📄 Step 2: Load and Preprocess Ratings and Genre Metadata"
   ]
  },
  {
   "cell_type": "code",
   "execution_count": 2,
   "id": "cf2130c4",
   "metadata": {},
   "outputs": [],
   "source": [
    "\n",
    "# === 2. Load & Preprocess Data ===\n",
    "ratings = pd.read_csv('ml-100k/u.data', sep='\\t', names=['user_id','movie_id','rating','ts'])\n",
    "\n",
    "item_info = pd.read_csv(\"ml-100k/u.item\", sep='|', encoding='latin-1', header=None,\n",
    "                        names=['movie_id', 'title', 'release_date', 'video_release_date', 'IMDb_URL',\n",
    "                               'unknown', 'Action', 'Adventure', 'Animation', \"Children's\", 'Comedy', 'Crime',\n",
    "                               'Documentary', 'Drama', 'Fantasy', 'Film-Noir', 'Horror', 'Musical', 'Mystery',\n",
    "                               'Romance', 'Sci-Fi', 'Thriller', 'War', 'Western'])\n",
    "\n",
    "genres = item_info.drop(columns=['movie_id', 'title', 'release_date', 'video_release_date', 'IMDb_URL'])\n",
    "genre_matrix = genres.values\n"
   ]
  },
  {
   "cell_type": "markdown",
   "id": "48cbd478",
   "metadata": {},
   "source": [
    "## 🧹 Step 3: Encode User and Item IDs and Create Interaction Matrix"
   ]
  },
  {
   "cell_type": "code",
   "execution_count": 3,
   "id": "862698e5",
   "metadata": {},
   "outputs": [],
   "source": [
    "\n",
    "ratings['user_id'] = ratings['user_id'].astype(int)\n",
    "ratings['movie_id'] = ratings['movie_id'].astype(int)\n",
    "user_ids = ratings['user_id'].unique()\n",
    "item_ids = ratings['movie_id'].unique()\n",
    "uid_map = {id_: idx for idx, id_ in enumerate(user_ids)}\n",
    "iid_map = {id_: idx for idx, id_ in enumerate(item_ids)}\n",
    "rev_iid_map = {v: k for k, v in iid_map.items()}\n",
    "rev_uid_map = {v: k for k, v in uid_map.items()}\n",
    "ratings['uid'] = ratings['user_id'].map(uid_map)\n",
    "ratings['iid'] = ratings['movie_id'].map(iid_map)\n",
    "\n",
    "from sklearn.model_selection import train_test_split\n",
    "train_df, test_df = train_test_split(ratings, test_size=0.2, random_state=42)\n",
    "n_users, n_items = len(uid_map), len(iid_map)\n",
    "train_matrix = np.zeros((n_users, n_items))\n",
    "for row in train_df.itertuples():\n",
    "    train_matrix[row.uid, row.iid] = row.rating\n"
   ]
  },
  {
   "cell_type": "markdown",
   "id": "4c485c30",
   "metadata": {},
   "source": [
    "## 🧠 Step 4: Define and Train Autoencoder (Collaborative Filtering)"
   ]
  },
  {
   "cell_type": "code",
   "execution_count": 4,
   "id": "ce5e938b",
   "metadata": {},
   "outputs": [],
   "source": [
    "\n",
    "import torch\n",
    "import torch.nn as nn\n",
    "import torch.optim as optim\n",
    "\n",
    "class AutoEncoder(nn.Module):\n",
    "    def __init__(self, input_dim):\n",
    "        super(AutoEncoder, self).__init__()\n",
    "        self.encoder = nn.Sequential(\n",
    "            nn.Linear(input_dim, 128),\n",
    "            nn.ReLU(),\n",
    "            nn.Linear(128, 64),\n",
    "            nn.ReLU()\n",
    "        )\n",
    "        self.decoder = nn.Sequential(\n",
    "            nn.Linear(64, 128),\n",
    "            nn.ReLU(),\n",
    "            nn.Linear(128, input_dim),\n",
    "            nn.Sigmoid()\n",
    "        )\n",
    "\n",
    "    def forward(self, x):\n",
    "        return self.decoder(self.encoder(x))\n",
    "\n",
    "device = torch.device(\"cuda\" if torch.cuda.is_available() else \"cpu\")\n",
    "model = AutoEncoder(input_dim=n_items).to(device)\n",
    "optimizer = optim.Adam(model.parameters(), lr=0.001)\n",
    "criterion = nn.MSELoss()\n",
    "\n",
    "X_train = torch.FloatTensor(train_matrix).to(device)\n",
    "for epoch in range(10):\n",
    "    model.train()\n",
    "    optimizer.zero_grad()\n",
    "    outputs = model(X_train)\n",
    "    loss = criterion(outputs, X_train)\n",
    "    loss.backward()\n",
    "    optimizer.step()\n"
   ]
  },
  {
   "cell_type": "markdown",
   "id": "5d6552c0",
   "metadata": {},
   "source": [
    "## 🔀 Step 5: Hybrid Recommendation (Collaborative + Content)"
   ]
  },
  {
   "cell_type": "code",
   "execution_count": 5,
   "id": "db98ee2c",
   "metadata": {},
   "outputs": [],
   "source": [
    "\n",
    "def hybrid_recommend(user_vector, content_matrix, model, alpha=0.7, k=10):\n",
    "    model.eval()\n",
    "    with torch.no_grad():\n",
    "        cf_scores = model(torch.FloatTensor(user_vector.reshape(1, -1)).to(device)).cpu().numpy().flatten()\n",
    "    user_profile = user_vector @ content_matrix\n",
    "    cb_scores = content_matrix @ user_profile.T\n",
    "    cb_scores = cb_scores / (np.linalg.norm(cb_scores) + 1e-8)\n",
    "    hybrid_scores = alpha * cf_scores + (1 - alpha) * cb_scores\n",
    "    return np.argsort(-hybrid_scores)[:k]\n"
   ]
  },
  {
   "cell_type": "markdown",
   "id": "604b95cf",
   "metadata": {},
   "source": [
    "## 📏 Step 6: Evaluate Model (Precision@10, NDCG@10)"
   ]
  },
  {
   "cell_type": "code",
   "execution_count": 6,
   "id": "5d92a3bf",
   "metadata": {},
   "outputs": [
    {
     "name": "stdout",
     "output_type": "stream",
     "text": [
      "✅ Precision@10: 0.0623\n",
      "✅ NDCG@10: 0.2293\n"
     ]
    }
   ],
   "source": [
    "\n",
    "from sklearn.metrics import ndcg_score\n",
    "\n",
    "def precision_at_k(recommended, ground_truth, k):\n",
    "    recommended = recommended[:k]\n",
    "    return len(set(recommended) & set(ground_truth)) / k\n",
    "\n",
    "def ndcg_at_k(recommended, ground_truth, k):\n",
    "    rel = [1 if item in ground_truth else 0 for item in recommended[:k]]\n",
    "    return ndcg_score([rel], [sorted(rel, reverse=True)])\n",
    "\n",
    "precisions, ndcgs = [], []\n",
    "for uid in test_df['uid'].unique():\n",
    "    actual_items = test_df[test_df['uid'] == uid]['iid'].tolist()\n",
    "    if not actual_items:\n",
    "        continue\n",
    "    user_vec = train_matrix[uid]\n",
    "    top_k = hybrid_recommend(user_vec, genre_matrix, model, alpha=0.7, k=10)\n",
    "    precisions.append(precision_at_k(top_k, actual_items, 10))\n",
    "    ndcgs.append(ndcg_at_k(top_k, actual_items, 10))\n",
    "\n",
    "print(f\"✅ Precision@10: {np.mean(precisions):.4f}\")\n",
    "print(f\"✅ NDCG@10: {np.mean(ndcgs):.4f}\")\n"
   ]
  },
  {
   "cell_type": "markdown",
   "id": "933aae66",
   "metadata": {},
   "source": [
    "## 🎁 Step 7: Show Recommendations (Known and Cold-Start)"
   ]
  },
  {
   "cell_type": "code",
   "execution_count": 7,
   "id": "d7135c89",
   "metadata": {},
   "outputs": [
    {
     "data": {
      "text/html": [
       "<div>\n",
       "<style scoped>\n",
       "    .dataframe tbody tr th:only-of-type {\n",
       "        vertical-align: middle;\n",
       "    }\n",
       "\n",
       "    .dataframe tbody tr th {\n",
       "        vertical-align: top;\n",
       "    }\n",
       "\n",
       "    .dataframe thead th {\n",
       "        text-align: right;\n",
       "    }\n",
       "</style>\n",
       "<table border=\"1\" class=\"dataframe\">\n",
       "  <thead>\n",
       "    <tr style=\"text-align: right;\">\n",
       "      <th></th>\n",
       "      <th>Known User Top 10</th>\n",
       "      <th>Cold Start User Top 10</th>\n",
       "    </tr>\n",
       "  </thead>\n",
       "  <tbody>\n",
       "    <tr>\n",
       "      <th>0</th>\n",
       "      <td>Midnight in the Garden of Good and Evil (1997)</td>\n",
       "      <td>Toy Story (1995)</td>\n",
       "    </tr>\n",
       "    <tr>\n",
       "      <th>1</th>\n",
       "      <td>Indiana Jones and the Last Crusade (1989)</td>\n",
       "      <td>Star Wars (1977)</td>\n",
       "    </tr>\n",
       "    <tr>\n",
       "      <th>2</th>\n",
       "      <td>Terminator 2: Judgment Day (1991)</td>\n",
       "      <td>Fargo (1996)</td>\n",
       "    </tr>\n",
       "    <tr>\n",
       "      <th>3</th>\n",
       "      <td>Aliens (1986)</td>\n",
       "      <td>Independence Day (ID4) (1996)</td>\n",
       "    </tr>\n",
       "    <tr>\n",
       "      <th>4</th>\n",
       "      <td>Client, The (1994)</td>\n",
       "      <td>Return of the Jedi (1983)</td>\n",
       "    </tr>\n",
       "    <tr>\n",
       "      <th>5</th>\n",
       "      <td>Horseman on the Roof, The (Hussard sur le toit...</td>\n",
       "      <td>Contact (1997)</td>\n",
       "    </tr>\n",
       "    <tr>\n",
       "      <th>6</th>\n",
       "      <td>North by Northwest (1959)</td>\n",
       "      <td>English Patient, The (1996)</td>\n",
       "    </tr>\n",
       "    <tr>\n",
       "      <th>7</th>\n",
       "      <td>Powder (1995)</td>\n",
       "      <td>Scream (1996)</td>\n",
       "    </tr>\n",
       "    <tr>\n",
       "      <th>8</th>\n",
       "      <td>Farinelli: il castrato (1994)</td>\n",
       "      <td>Liar Liar (1997)</td>\n",
       "    </tr>\n",
       "    <tr>\n",
       "      <th>9</th>\n",
       "      <td>Grosse Pointe Blank (1997)</td>\n",
       "      <td>Air Force One (1997)</td>\n",
       "    </tr>\n",
       "  </tbody>\n",
       "</table>\n",
       "</div>"
      ],
      "text/plain": [
       "                                   Known User Top 10  \\\n",
       "0     Midnight in the Garden of Good and Evil (1997)   \n",
       "1          Indiana Jones and the Last Crusade (1989)   \n",
       "2                  Terminator 2: Judgment Day (1991)   \n",
       "3                                      Aliens (1986)   \n",
       "4                                 Client, The (1994)   \n",
       "5  Horseman on the Roof, The (Hussard sur le toit...   \n",
       "6                          North by Northwest (1959)   \n",
       "7                                      Powder (1995)   \n",
       "8                      Farinelli: il castrato (1994)   \n",
       "9                         Grosse Pointe Blank (1997)   \n",
       "\n",
       "          Cold Start User Top 10  \n",
       "0               Toy Story (1995)  \n",
       "1               Star Wars (1977)  \n",
       "2                   Fargo (1996)  \n",
       "3  Independence Day (ID4) (1996)  \n",
       "4      Return of the Jedi (1983)  \n",
       "5                 Contact (1997)  \n",
       "6    English Patient, The (1996)  \n",
       "7                  Scream (1996)  \n",
       "8               Liar Liar (1997)  \n",
       "9           Air Force One (1997)  "
      ]
     },
     "execution_count": 7,
     "metadata": {},
     "output_type": "execute_result"
    }
   ],
   "source": [
    "\n",
    "known_user = 5\n",
    "known_top = hybrid_recommend(train_matrix[known_user], genre_matrix, model)\n",
    "known_recs = [item_info.iloc[i]['title'] for i in known_top]\n",
    "\n",
    "popular_items = ratings.groupby('movie_id').size().sort_values(ascending=False).head(10).index\n",
    "cold_recs = item_info[item_info['movie_id'].isin(popular_items)]['title'].tolist()\n",
    "\n",
    "pd.DataFrame({\n",
    "    'Known User Top 10': known_recs,\n",
    "    'Cold Start User Top 10': cold_recs + [''] * (10 - len(cold_recs))\n",
    "})\n"
   ]
  },
  {
   "cell_type": "markdown",
   "id": "9acc57c8",
   "metadata": {},
   "source": [
    "## 🚀 Step 8: Scalability Considerations\n",
    "- Use FAISS/Annoy for fast nearest neighbor search on embeddings\n",
    "- Train autoencoders with mini-batches + GPU\n",
    "- Deploy CF and CB models as separate microservices\n",
    "- Maintain user/item vectors in a vector DB or cache for speed"
   ]
  }
 ],
 "metadata": {
  "kernelspec": {
   "display_name": "Python 3 (ipykernel)",
   "language": "python",
   "name": "python3"
  },
  "language_info": {
   "codemirror_mode": {
    "name": "ipython",
    "version": 3
   },
   "file_extension": ".py",
   "mimetype": "text/x-python",
   "name": "python",
   "nbconvert_exporter": "python",
   "pygments_lexer": "ipython3",
   "version": "3.10.17"
  }
 },
 "nbformat": 4,
 "nbformat_minor": 5
}
